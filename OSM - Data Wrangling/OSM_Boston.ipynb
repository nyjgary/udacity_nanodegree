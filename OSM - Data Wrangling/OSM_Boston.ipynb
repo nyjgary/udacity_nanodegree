{
 "cells": [
  {
   "cell_type": "markdown",
   "metadata": {},
   "source": [
    "# OpenStreetMap (OSM) Data Wrangling Project"
   ]
  },
  {
   "cell_type": "markdown",
   "metadata": {},
   "source": [
    "## Map area "
   ]
  },
  {
   "cell_type": "markdown",
   "metadata": {},
   "source": [
    "For this project, I have chosen to clean and explore the OpenStreetMap data of Boston, where I currently reside:  \n",
    "- https://www.openstreetmap.org/relation/2315704\n",
    "- http://metro.teczno.com/#boston"
   ]
  },
  {
   "cell_type": "code",
   "execution_count": 1,
   "metadata": {
    "collapsed": true
   },
   "outputs": [],
   "source": [
    "import sqlite3\n",
    "import pandas as pd \n",
    "import re\n",
    "db = sqlite3.connect(\"OSMBoston.db\")\n",
    "c = db.cursor()"
   ]
  },
  {
   "cell_type": "markdown",
   "metadata": {},
   "source": [
    "## Issues with map data"
   ]
  },
  {
   "cell_type": "markdown",
   "metadata": {},
   "source": [
    "After downloading a sample of the OSM data, converting them to csv files using data.py, and uploading them into a SQLite database, I noticed a number of issues with the map data that warrant our attention: \n",
    "- Overabbreviated street names\n",
    "- Inconsistent state names\n",
    "- Inconsistent city names \n",
    "- Inconsistent and problematic postal codes "
   ]
  },
  {
   "cell_type": "markdown",
   "metadata": {},
   "source": [
    "### Overabbreviated street names  "
   ]
  },
  {
   "cell_type": "code",
   "execution_count": 7,
   "metadata": {
    "collapsed": false
   },
   "outputs": [
    {
     "data": {
      "text/plain": [
       "{u'1100': 1,\n",
       " u'1702': 1,\n",
       " u'3': 1,\n",
       " u'303': 1,\n",
       " u'6': 1,\n",
       " u'846028': 1,\n",
       " u'Ave': 7,\n",
       " u'Ave.': 4,\n",
       " u'Boylston': 1,\n",
       " u'Cambrdige': 1,\n",
       " u'Federal': 1,\n",
       " u'Fenway': 1,\n",
       " u'Floor': 1,\n",
       " u'Hall': 1,\n",
       " u'Hampshire': 1,\n",
       " u'Highway': 1,\n",
       " u'Hwy': 1,\n",
       " u'LEVEL': 1,\n",
       " u'Lafayette': 1,\n",
       " u'Mall': 1,\n",
       " u'Newbury': 1,\n",
       " u'Pl': 1,\n",
       " u'Row': 1,\n",
       " u'ST': 1,\n",
       " u'South': 1,\n",
       " u'Sq.': 1,\n",
       " u'St': 19,\n",
       " u'St.': 13,\n",
       " u'Terrace': 1,\n",
       " u'Wharf': 2,\n",
       " u'Windsor': 1,\n",
       " u'Winsor': 1,\n",
       " u'ave': 1,\n",
       " u'floor': 2,\n",
       " u'st': 1,\n",
       " u'street': 1}"
      ]
     },
     "execution_count": 7,
     "metadata": {},
     "output_type": "execute_result"
    }
   ],
   "source": [
    "QUERY = \"\"\"\n",
    "        SELECT value, COUNT(*) \n",
    "        FROM (SELECT * FROM way_tags UNION ALL SELECT * FROM node_tags) t\n",
    "        WHERE type = 'addr' AND key = 'street' \n",
    "        GROUP BY value ORDER BY value;\n",
    "        \"\"\"\n",
    "c.execute(QUERY)\n",
    "rows = c.fetchall()\n",
    "st_names = pd.DataFrame(rows, columns = ['st_name', 'count'])\n",
    "\n",
    "st_type_re = re.compile(r'\\b\\S+\\.?$', re.IGNORECASE)\n",
    "st_types_good = [\"Street\", \"Avenue\", \"Drive\", \"Square\", \"Broadway\", \"Place\", \n",
    "                 \"Park\", \"Center\", \"Road\", \"Way\", \"Boulevard\", \"Lane\"]  \n",
    "st_types_other = {}\n",
    "\n",
    "for name in st_names['st_name']: \n",
    "    st_type = st_type_re.search(name).group() \n",
    "    if st_type not in st_types_good: \n",
    "        if st_type in st_types_other: \n",
    "            st_types_other[st_type] += 1 \n",
    "        else: \n",
    "            st_types_other[st_type] = 1\n",
    "\n",
    "st_types_other"
   ]
  },
  {
   "cell_type": "markdown",
   "metadata": {},
   "source": [
    "### Inconsistent state names"
   ]
  },
  {
   "cell_type": "markdown",
   "metadata": {},
   "source": [
    "The state name of Massachusetts was inconsistently listed in the data surveyed. While 'MA' was the most common spelling, other entries listed it as 'MA- MASSACHUSETTS', 'Massachusetts', 'ma', and 'Ma'. We will clean these alternative spellings and standardize them as 'MA' across the board. "
   ]
  },
  {
   "cell_type": "code",
   "execution_count": 8,
   "metadata": {
    "collapsed": false
   },
   "outputs": [
    {
     "data": {
      "text/html": [
       "<div>\n",
       "<table border=\"1\" class=\"dataframe\">\n",
       "  <thead>\n",
       "    <tr style=\"text-align: right;\">\n",
       "      <th></th>\n",
       "      <th>key</th>\n",
       "      <th>count</th>\n",
       "    </tr>\n",
       "  </thead>\n",
       "  <tbody>\n",
       "    <tr>\n",
       "      <th>0</th>\n",
       "      <td>MA</td>\n",
       "      <td>665</td>\n",
       "    </tr>\n",
       "    <tr>\n",
       "      <th>1</th>\n",
       "      <td>MA- MASSACHUSETTS</td>\n",
       "      <td>62</td>\n",
       "    </tr>\n",
       "    <tr>\n",
       "      <th>2</th>\n",
       "      <td>Massachusetts</td>\n",
       "      <td>11</td>\n",
       "    </tr>\n",
       "    <tr>\n",
       "      <th>3</th>\n",
       "      <td>ma</td>\n",
       "      <td>2</td>\n",
       "    </tr>\n",
       "    <tr>\n",
       "      <th>4</th>\n",
       "      <td>Ma</td>\n",
       "      <td>1</td>\n",
       "    </tr>\n",
       "  </tbody>\n",
       "</table>\n",
       "</div>"
      ],
      "text/plain": [
       "                 key  count\n",
       "0                 MA    665\n",
       "1  MA- MASSACHUSETTS     62\n",
       "2      Massachusetts     11\n",
       "3                 ma      2\n",
       "4                 Ma      1"
      ]
     },
     "execution_count": 8,
     "metadata": {},
     "output_type": "execute_result"
    }
   ],
   "source": [
    "QUERY = \"\"\"\n",
    "        SELECT value, COUNT(*) FROM \n",
    "        (SELECT * FROM way_tags UNION ALL SELECT * FROM node_tags) t\n",
    "        WHERE type = 'addr' AND key = 'state'\n",
    "        GROUP BY value ORDER BY COUNT(*) DESC\n",
    "        \"\"\"\n",
    "c.execute(QUERY)\n",
    "rows = c.fetchall()\n",
    "pd.DataFrame(rows, columns=['key', 'count'])"
   ]
  },
  {
   "cell_type": "markdown",
   "metadata": {},
   "source": [
    "### Inconsistent city names "
   ]
  },
  {
   "cell_type": "markdown",
   "metadata": {},
   "source": [
    "Along the same vein, cities are also inconsistently named in the map data. For instance, we see several instances where the state names were listed along with the cities. We will clean these by stripping out portions of strings beginning with comma. "
   ]
  },
  {
   "cell_type": "code",
   "execution_count": 9,
   "metadata": {
    "collapsed": false
   },
   "outputs": [
    {
     "data": {
      "text/html": [
       "<div>\n",
       "<table border=\"1\" class=\"dataframe\">\n",
       "  <thead>\n",
       "    <tr style=\"text-align: right;\">\n",
       "      <th></th>\n",
       "      <th>key</th>\n",
       "      <th>count</th>\n",
       "    </tr>\n",
       "  </thead>\n",
       "  <tbody>\n",
       "    <tr>\n",
       "      <th>0</th>\n",
       "      <td>Cambridge</td>\n",
       "      <td>347</td>\n",
       "    </tr>\n",
       "    <tr>\n",
       "      <th>1</th>\n",
       "      <td>Boston</td>\n",
       "      <td>260</td>\n",
       "    </tr>\n",
       "    <tr>\n",
       "      <th>2</th>\n",
       "      <td>Somerville</td>\n",
       "      <td>32</td>\n",
       "    </tr>\n",
       "    <tr>\n",
       "      <th>3</th>\n",
       "      <td>Brookline</td>\n",
       "      <td>9</td>\n",
       "    </tr>\n",
       "    <tr>\n",
       "      <th>4</th>\n",
       "      <td>Boston, MA</td>\n",
       "      <td>6</td>\n",
       "    </tr>\n",
       "    <tr>\n",
       "      <th>5</th>\n",
       "      <td>Charlestown</td>\n",
       "      <td>6</td>\n",
       "    </tr>\n",
       "    <tr>\n",
       "      <th>6</th>\n",
       "      <td>Cambridge, MA</td>\n",
       "      <td>5</td>\n",
       "    </tr>\n",
       "    <tr>\n",
       "      <th>7</th>\n",
       "      <td>Cambridge, Massachusetts</td>\n",
       "      <td>5</td>\n",
       "    </tr>\n",
       "    <tr>\n",
       "      <th>8</th>\n",
       "      <td>Roxbury Crossing</td>\n",
       "      <td>2</td>\n",
       "    </tr>\n",
       "    <tr>\n",
       "      <th>9</th>\n",
       "      <td>South Boston</td>\n",
       "      <td>2</td>\n",
       "    </tr>\n",
       "    <tr>\n",
       "      <th>10</th>\n",
       "      <td>BOSTON</td>\n",
       "      <td>1</td>\n",
       "    </tr>\n",
       "    <tr>\n",
       "      <th>11</th>\n",
       "      <td>East Boston</td>\n",
       "      <td>1</td>\n",
       "    </tr>\n",
       "    <tr>\n",
       "      <th>12</th>\n",
       "      <td>Roxbury</td>\n",
       "      <td>1</td>\n",
       "    </tr>\n",
       "    <tr>\n",
       "      <th>13</th>\n",
       "      <td>South End</td>\n",
       "      <td>1</td>\n",
       "    </tr>\n",
       "    <tr>\n",
       "      <th>14</th>\n",
       "      <td>boston</td>\n",
       "      <td>1</td>\n",
       "    </tr>\n",
       "    <tr>\n",
       "      <th>15</th>\n",
       "      <td>somerville</td>\n",
       "      <td>1</td>\n",
       "    </tr>\n",
       "  </tbody>\n",
       "</table>\n",
       "</div>"
      ],
      "text/plain": [
       "                         key  count\n",
       "0                  Cambridge    347\n",
       "1                     Boston    260\n",
       "2                 Somerville     32\n",
       "3                  Brookline      9\n",
       "4                 Boston, MA      6\n",
       "5                Charlestown      6\n",
       "6              Cambridge, MA      5\n",
       "7   Cambridge, Massachusetts      5\n",
       "8           Roxbury Crossing      2\n",
       "9               South Boston      2\n",
       "10                    BOSTON      1\n",
       "11               East Boston      1\n",
       "12                   Roxbury      1\n",
       "13                 South End      1\n",
       "14                    boston      1\n",
       "15                somerville      1"
      ]
     },
     "execution_count": 9,
     "metadata": {},
     "output_type": "execute_result"
    }
   ],
   "source": [
    "QUERY = \"\"\"\n",
    "        SELECT value, COUNT(*) \n",
    "        FROM (SELECT * FROM way_tags UNION ALL SELECT * FROM node_tags) t\n",
    "        WHERE type = 'addr' AND key = 'city'\n",
    "        GROUP BY value ORDER BY COUNT(*) DESC\n",
    "        \"\"\"\n",
    "c.execute(QUERY)\n",
    "rows = c.fetchall()\n",
    "pd.DataFrame(rows, columns=['key', 'count'])"
   ]
  },
  {
   "cell_type": "markdown",
   "metadata": {},
   "source": [
    "### Problematic postal codes"
   ]
  },
  {
   "cell_type": "markdown",
   "metadata": {},
   "source": [
    "Not surprisingly, we also see inconsistency in postal codes. While most postal codes use the 5-digit convention, others use the full 9-digit convention. Worse, there are instances where state was included in the postal code. For sake of standardization, we will remove non-numerical characters and keep only the first 5 digits as zipcodes. "
   ]
  },
  {
   "cell_type": "code",
   "execution_count": 93,
   "metadata": {
    "collapsed": false
   },
   "outputs": [
    {
     "data": {
      "text/html": [
       "<div>\n",
       "<table border=\"1\" class=\"dataframe\">\n",
       "  <thead>\n",
       "    <tr style=\"text-align: right;\">\n",
       "      <th></th>\n",
       "      <th>zipcode</th>\n",
       "      <th>count</th>\n",
       "    </tr>\n",
       "  </thead>\n",
       "  <tbody>\n",
       "    <tr>\n",
       "      <th>0</th>\n",
       "      <td>02139</td>\n",
       "      <td>282</td>\n",
       "    </tr>\n",
       "    <tr>\n",
       "      <th>1</th>\n",
       "      <td>02114</td>\n",
       "      <td>61</td>\n",
       "    </tr>\n",
       "    <tr>\n",
       "      <th>2</th>\n",
       "      <td>02215</td>\n",
       "      <td>50</td>\n",
       "    </tr>\n",
       "    <tr>\n",
       "      <th>3</th>\n",
       "      <td>02116</td>\n",
       "      <td>42</td>\n",
       "    </tr>\n",
       "    <tr>\n",
       "      <th>4</th>\n",
       "      <td>02138</td>\n",
       "      <td>34</td>\n",
       "    </tr>\n",
       "    <tr>\n",
       "      <th>5</th>\n",
       "      <td>02142</td>\n",
       "      <td>32</td>\n",
       "    </tr>\n",
       "    <tr>\n",
       "      <th>6</th>\n",
       "      <td>02143</td>\n",
       "      <td>30</td>\n",
       "    </tr>\n",
       "    <tr>\n",
       "      <th>7</th>\n",
       "      <td>02210</td>\n",
       "      <td>24</td>\n",
       "    </tr>\n",
       "    <tr>\n",
       "      <th>8</th>\n",
       "      <td>02111</td>\n",
       "      <td>17</td>\n",
       "    </tr>\n",
       "    <tr>\n",
       "      <th>9</th>\n",
       "      <td>02141</td>\n",
       "      <td>16</td>\n",
       "    </tr>\n",
       "    <tr>\n",
       "      <th>10</th>\n",
       "      <td>02108</td>\n",
       "      <td>12</td>\n",
       "    </tr>\n",
       "    <tr>\n",
       "      <th>11</th>\n",
       "      <td>02110</td>\n",
       "      <td>9</td>\n",
       "    </tr>\n",
       "    <tr>\n",
       "      <th>12</th>\n",
       "      <td>02115</td>\n",
       "      <td>9</td>\n",
       "    </tr>\n",
       "    <tr>\n",
       "      <th>13</th>\n",
       "      <td>02127</td>\n",
       "      <td>9</td>\n",
       "    </tr>\n",
       "    <tr>\n",
       "      <th>14</th>\n",
       "      <td>02109</td>\n",
       "      <td>8</td>\n",
       "    </tr>\n",
       "    <tr>\n",
       "      <th>15</th>\n",
       "      <td>02138-2701</td>\n",
       "      <td>8</td>\n",
       "    </tr>\n",
       "    <tr>\n",
       "      <th>16</th>\n",
       "      <td>02138-2903</td>\n",
       "      <td>8</td>\n",
       "    </tr>\n",
       "    <tr>\n",
       "      <th>17</th>\n",
       "      <td>02446</td>\n",
       "      <td>8</td>\n",
       "    </tr>\n",
       "    <tr>\n",
       "      <th>18</th>\n",
       "      <td>02119</td>\n",
       "      <td>6</td>\n",
       "    </tr>\n",
       "    <tr>\n",
       "      <th>19</th>\n",
       "      <td>02118</td>\n",
       "      <td>5</td>\n",
       "    </tr>\n",
       "    <tr>\n",
       "      <th>20</th>\n",
       "      <td>02120</td>\n",
       "      <td>5</td>\n",
       "    </tr>\n",
       "    <tr>\n",
       "      <th>21</th>\n",
       "      <td>02129</td>\n",
       "      <td>5</td>\n",
       "    </tr>\n",
       "    <tr>\n",
       "      <th>22</th>\n",
       "      <td>02138-2801</td>\n",
       "      <td>4</td>\n",
       "    </tr>\n",
       "    <tr>\n",
       "      <th>23</th>\n",
       "      <td>02138-2901</td>\n",
       "      <td>4</td>\n",
       "    </tr>\n",
       "    <tr>\n",
       "      <th>24</th>\n",
       "      <td>02138-2706</td>\n",
       "      <td>3</td>\n",
       "    </tr>\n",
       "    <tr>\n",
       "      <th>25</th>\n",
       "      <td>02138-2933</td>\n",
       "      <td>3</td>\n",
       "    </tr>\n",
       "    <tr>\n",
       "      <th>26</th>\n",
       "      <td>MA 02116</td>\n",
       "      <td>3</td>\n",
       "    </tr>\n",
       "    <tr>\n",
       "      <th>27</th>\n",
       "      <td>02125</td>\n",
       "      <td>2</td>\n",
       "    </tr>\n",
       "    <tr>\n",
       "      <th>28</th>\n",
       "      <td>02138-2736</td>\n",
       "      <td>2</td>\n",
       "    </tr>\n",
       "    <tr>\n",
       "      <th>29</th>\n",
       "      <td>02445</td>\n",
       "      <td>2</td>\n",
       "    </tr>\n",
       "  </tbody>\n",
       "</table>\n",
       "</div>"
      ],
      "text/plain": [
       "       zipcode  count\n",
       "0        02139    282\n",
       "1        02114     61\n",
       "2        02215     50\n",
       "3        02116     42\n",
       "4        02138     34\n",
       "5        02142     32\n",
       "6        02143     30\n",
       "7        02210     24\n",
       "8        02111     17\n",
       "9        02141     16\n",
       "10       02108     12\n",
       "11       02110      9\n",
       "12       02115      9\n",
       "13       02127      9\n",
       "14       02109      8\n",
       "15  02138-2701      8\n",
       "16  02138-2903      8\n",
       "17       02446      8\n",
       "18       02119      6\n",
       "19       02118      5\n",
       "20       02120      5\n",
       "21       02129      5\n",
       "22  02138-2801      4\n",
       "23  02138-2901      4\n",
       "24  02138-2706      3\n",
       "25  02138-2933      3\n",
       "26    MA 02116      3\n",
       "27       02125      2\n",
       "28  02138-2736      2\n",
       "29       02445      2"
      ]
     },
     "execution_count": 93,
     "metadata": {},
     "output_type": "execute_result"
    }
   ],
   "source": [
    "QUERY = \"\"\"\n",
    "        SELECT tags.value, COUNT(*) AS count \n",
    "        FROM (SELECT * FROM node_tags UNION ALL SELECT * FROM way_tags) tags\n",
    "        WHERE tags.key = 'postcode' \n",
    "        GROUP BY tags.value ORDER BY count DESC LIMIT 30; \n",
    "        \"\"\"\n",
    "c.execute(QUERY)\n",
    "rows = c.fetchall()\n",
    "pd.DataFrame(rows, columns=['zipcode', 'count'])"
   ]
  },
  {
   "cell_type": "markdown",
   "metadata": {
    "collapsed": true
   },
   "source": [
    "## Data Overview and Additional Ideas"
   ]
  },
  {
   "cell_type": "markdown",
   "metadata": {},
   "source": [
    "This section contains basic statistics about the dataset, the SQL queries used to gather them, as well as some additional ideas about improving the dataset and deploying it for other purposes. "
   ]
  },
  {
   "cell_type": "markdown",
   "metadata": {},
   "source": [
    "### File Size "
   ]
  },
  {
   "cell_type": "code",
   "execution_count": 123,
   "metadata": {
    "collapsed": false
   },
   "outputs": [
    {
     "data": {
      "text/html": [
       "<div>\n",
       "<table border=\"1\" class=\"dataframe\">\n",
       "  <thead>\n",
       "    <tr style=\"text-align: right;\">\n",
       "      <th></th>\n",
       "      <th>file_size</th>\n",
       "    </tr>\n",
       "  </thead>\n",
       "  <tbody>\n",
       "    <tr>\n",
       "      <th>boston.osm</th>\n",
       "      <td>53.5MB</td>\n",
       "    </tr>\n",
       "    <tr>\n",
       "      <th>ways_nodes.csv</th>\n",
       "      <td>6.3MB</td>\n",
       "    </tr>\n",
       "    <tr>\n",
       "      <th>nodes.csv</th>\n",
       "      <td>17.5MB</td>\n",
       "    </tr>\n",
       "    <tr>\n",
       "      <th>OSMBoston.db</th>\n",
       "      <td>34.9MB</td>\n",
       "    </tr>\n",
       "    <tr>\n",
       "      <th>ways.csv</th>\n",
       "      <td>2.0MB</td>\n",
       "    </tr>\n",
       "    <tr>\n",
       "      <th>nodes_tags</th>\n",
       "      <td>2.6MB</td>\n",
       "    </tr>\n",
       "    <tr>\n",
       "      <th>ways_tags.csv</th>\n",
       "      <td>3.6MB</td>\n",
       "    </tr>\n",
       "  </tbody>\n",
       "</table>\n",
       "</div>"
      ],
      "text/plain": [
       "               file_size\n",
       "boston.osm        53.5MB\n",
       "ways_nodes.csv     6.3MB\n",
       "nodes.csv         17.5MB\n",
       "OSMBoston.db      34.9MB\n",
       "ways.csv           2.0MB\n",
       "nodes_tags         2.6MB\n",
       "ways_tags.csv      3.6MB"
      ]
     },
     "execution_count": 123,
     "metadata": {},
     "output_type": "execute_result"
    }
   ],
   "source": [
    "file_size = {'boston.osm': '53.5MB', 'nodes_tags': '2.6MB', 'nodes.csv': '17.5MB',\n",
    "            'ways_nodes.csv': '6.3MB', 'ways_tags.csv': '3.6MB', 'ways.csv': '2.0MB',\n",
    "             'OSMBoston.db': '34.9MB', }\n",
    "file_size_df = pd.DataFrame.from_dict(file_size, orient='index')\n",
    "file_size_df.rename(columns={0: 'file_size'}, inplace = True)\n",
    "file_size_df"
   ]
  },
  {
   "cell_type": "markdown",
   "metadata": {},
   "source": [
    "### Number of Nodes"
   ]
  },
  {
   "cell_type": "code",
   "execution_count": 69,
   "metadata": {
    "collapsed": false
   },
   "outputs": [
    {
     "name": "stdout",
     "output_type": "stream",
     "text": [
      "216691\n"
     ]
    }
   ],
   "source": [
    "QUERY = \"SELECT COUNT(*) FROM nodes\"\n",
    "c.execute(QUERY)\n",
    "print c.fetchone()[0]"
   ]
  },
  {
   "cell_type": "markdown",
   "metadata": {},
   "source": [
    "### Number of Ways "
   ]
  },
  {
   "cell_type": "code",
   "execution_count": 17,
   "metadata": {
    "collapsed": false
   },
   "outputs": [
    {
     "name": "stdout",
     "output_type": "stream",
     "text": [
      "31551\n"
     ]
    }
   ],
   "source": [
    "QUERY = \"SELECT COUNT(DISTINCT id) FROM ways\"\n",
    "c.execute(QUERY)\n",
    "print c.fetchone()[0]"
   ]
  },
  {
   "cell_type": "markdown",
   "metadata": {},
   "source": [
    "### Number of Unique Users "
   ]
  },
  {
   "cell_type": "code",
   "execution_count": 32,
   "metadata": {
    "collapsed": false
   },
   "outputs": [
    {
     "name": "stdout",
     "output_type": "stream",
     "text": [
      "636\n"
     ]
    }
   ],
   "source": [
    "QUERY = \"\"\"\n",
    "        SELECT COUNT(DISTINCT uid) \n",
    "        FROM (SELECT uid FROM nodes UNION ALL SELECT uid FROM ways) t  \n",
    "        \"\"\"\n",
    "c.execute(QUERY)\n",
    "print c.fetchone()[0]"
   ]
  },
  {
   "cell_type": "markdown",
   "metadata": {},
   "source": [
    "### Top Contributors"
   ]
  },
  {
   "cell_type": "code",
   "execution_count": 54,
   "metadata": {
    "collapsed": false
   },
   "outputs": [
    {
     "data": {
      "text/html": [
       "<div>\n",
       "<table border=\"1\" class=\"dataframe\">\n",
       "  <thead>\n",
       "    <tr style=\"text-align: right;\">\n",
       "      <th></th>\n",
       "      <th>user</th>\n",
       "      <th>contrib_count</th>\n",
       "      <th>contrib_percent</th>\n",
       "    </tr>\n",
       "  </thead>\n",
       "  <tbody>\n",
       "    <tr>\n",
       "      <th>0</th>\n",
       "      <td>crschmidt</td>\n",
       "      <td>117658</td>\n",
       "      <td>54.3</td>\n",
       "    </tr>\n",
       "    <tr>\n",
       "      <th>1</th>\n",
       "      <td>wambag</td>\n",
       "      <td>25220</td>\n",
       "      <td>11.6</td>\n",
       "    </tr>\n",
       "    <tr>\n",
       "      <th>2</th>\n",
       "      <td>jremillard-massgis</td>\n",
       "      <td>24180</td>\n",
       "      <td>11.2</td>\n",
       "    </tr>\n",
       "    <tr>\n",
       "      <th>3</th>\n",
       "      <td>mapper999</td>\n",
       "      <td>14139</td>\n",
       "      <td>6.5</td>\n",
       "    </tr>\n",
       "    <tr>\n",
       "      <th>4</th>\n",
       "      <td>morganwahl</td>\n",
       "      <td>12139</td>\n",
       "      <td>5.6</td>\n",
       "    </tr>\n",
       "    <tr>\n",
       "      <th>5</th>\n",
       "      <td>OceanVortex</td>\n",
       "      <td>9253</td>\n",
       "      <td>4.3</td>\n",
       "    </tr>\n",
       "    <tr>\n",
       "      <th>6</th>\n",
       "      <td>MassGIS Import</td>\n",
       "      <td>3962</td>\n",
       "      <td>1.8</td>\n",
       "    </tr>\n",
       "    <tr>\n",
       "      <th>7</th>\n",
       "      <td>JasonWoof</td>\n",
       "      <td>3663</td>\n",
       "      <td>1.7</td>\n",
       "    </tr>\n",
       "    <tr>\n",
       "      <th>8</th>\n",
       "      <td>Ahlzen</td>\n",
       "      <td>2396</td>\n",
       "      <td>1.1</td>\n",
       "    </tr>\n",
       "    <tr>\n",
       "      <th>9</th>\n",
       "      <td>fiveisalive</td>\n",
       "      <td>2145</td>\n",
       "      <td>1.0</td>\n",
       "    </tr>\n",
       "  </tbody>\n",
       "</table>\n",
       "</div>"
      ],
      "text/plain": [
       "                 user  contrib_count  contrib_percent\n",
       "0           crschmidt         117658             54.3\n",
       "1              wambag          25220             11.6\n",
       "2  jremillard-massgis          24180             11.2\n",
       "3           mapper999          14139              6.5\n",
       "4          morganwahl          12139              5.6\n",
       "5         OceanVortex           9253              4.3\n",
       "6      MassGIS Import           3962              1.8\n",
       "7           JasonWoof           3663              1.7\n",
       "8              Ahlzen           2396              1.1\n",
       "9         fiveisalive           2145              1.0"
      ]
     },
     "execution_count": 54,
     "metadata": {},
     "output_type": "execute_result"
    }
   ],
   "source": [
    "QUERY = \"\"\"\n",
    "        SELECT user, \n",
    "               COUNT(*), \n",
    "               ROUND(CAST(COUNT(*) AS FLOAT) * 100 / (SELECT COUNT(*) FROM nodes UNION ALL SELECT user FROM ways), 1)   \n",
    "        FROM (SELECT user FROM nodes UNION ALL SELECT user FROM ways) t\n",
    "        GROUP BY user ORDER BY COUNT(*) DESC LIMIT 10\n",
    "        \"\"\"\n",
    "c.execute(QUERY)\n",
    "rows = c.fetchall()\n",
    "pd.DataFrame(rows, columns=['user', 'contrib_count', 'contrib_percent'])"
   ]
  },
  {
   "cell_type": "markdown",
   "metadata": {},
   "source": [
    "### Amenity Types "
   ]
  },
  {
   "cell_type": "markdown",
   "metadata": {},
   "source": [
    "The table below shows the top amenity categories tagged in OpenStreetMaps. Not surprisingly, 'restaurant' was the most common category. However, we also see related categories like 'cafe', 'fast_food', 'pub', and 'bar' listed separately. One might argue that there is little distinction across these categories (especially between 'pub' and 'bar') so they should all be listed under a broader 'restaurant & bar' category - if not as a single category then an umbrella one (similar to 'addr' as in 'addr:street'). This will be helpful for users mining for all F&B establishments in an area. Instead of pain-stakingly combing through all categories to avoid missing a relevant category, users may simply search for tags within that one category, or top-level category. Making that change shouldn't be overly complicated (remapping existing key values and restricting user options to pick amenity types going forward), but it may raise questions about the degree to which amenity types (and other tag types) should be aggregated and subsumed into larger categories, which may have larger implications on the data structure of OSM. "
   ]
  },
  {
   "cell_type": "code",
   "execution_count": 77,
   "metadata": {
    "collapsed": false
   },
   "outputs": [
    {
     "data": {
      "text/html": [
       "<div>\n",
       "<table border=\"1\" class=\"dataframe\">\n",
       "  <thead>\n",
       "    <tr style=\"text-align: right;\">\n",
       "      <th></th>\n",
       "      <th>value</th>\n",
       "      <th>count</th>\n",
       "    </tr>\n",
       "  </thead>\n",
       "  <tbody>\n",
       "    <tr>\n",
       "      <th>1</th>\n",
       "      <td>restaurant</td>\n",
       "      <td>291</td>\n",
       "    </tr>\n",
       "    <tr>\n",
       "      <th>2</th>\n",
       "      <td>bench</td>\n",
       "      <td>228</td>\n",
       "    </tr>\n",
       "    <tr>\n",
       "      <th>3</th>\n",
       "      <td>bicycle_parking</td>\n",
       "      <td>152</td>\n",
       "    </tr>\n",
       "    <tr>\n",
       "      <th>4</th>\n",
       "      <td>library</td>\n",
       "      <td>140</td>\n",
       "    </tr>\n",
       "    <tr>\n",
       "      <th>5</th>\n",
       "      <td>school</td>\n",
       "      <td>130</td>\n",
       "    </tr>\n",
       "    <tr>\n",
       "      <th>6</th>\n",
       "      <td>cafe</td>\n",
       "      <td>124</td>\n",
       "    </tr>\n",
       "    <tr>\n",
       "      <th>7</th>\n",
       "      <td>bicycle_rental</td>\n",
       "      <td>99</td>\n",
       "    </tr>\n",
       "    <tr>\n",
       "      <th>8</th>\n",
       "      <td>place_of_worship</td>\n",
       "      <td>88</td>\n",
       "    </tr>\n",
       "    <tr>\n",
       "      <th>9</th>\n",
       "      <td>fast_food</td>\n",
       "      <td>87</td>\n",
       "    </tr>\n",
       "    <tr>\n",
       "      <th>10</th>\n",
       "      <td>fountain</td>\n",
       "      <td>57</td>\n",
       "    </tr>\n",
       "    <tr>\n",
       "      <th>11</th>\n",
       "      <td>pub</td>\n",
       "      <td>45</td>\n",
       "    </tr>\n",
       "    <tr>\n",
       "      <th>12</th>\n",
       "      <td>post_box</td>\n",
       "      <td>32</td>\n",
       "    </tr>\n",
       "    <tr>\n",
       "      <th>13</th>\n",
       "      <td>bank</td>\n",
       "      <td>31</td>\n",
       "    </tr>\n",
       "    <tr>\n",
       "      <th>14</th>\n",
       "      <td>bar</td>\n",
       "      <td>30</td>\n",
       "    </tr>\n",
       "    <tr>\n",
       "      <th>15</th>\n",
       "      <td>atm</td>\n",
       "      <td>27</td>\n",
       "    </tr>\n",
       "  </tbody>\n",
       "</table>\n",
       "</div>"
      ],
      "text/plain": [
       "               value  count\n",
       "1         restaurant    291\n",
       "2              bench    228\n",
       "3    bicycle_parking    152\n",
       "4            library    140\n",
       "5             school    130\n",
       "6               cafe    124\n",
       "7     bicycle_rental     99\n",
       "8   place_of_worship     88\n",
       "9          fast_food     87\n",
       "10          fountain     57\n",
       "11               pub     45\n",
       "12          post_box     32\n",
       "13              bank     31\n",
       "14               bar     30\n",
       "15               atm     27"
      ]
     },
     "execution_count": 77,
     "metadata": {},
     "output_type": "execute_result"
    }
   ],
   "source": [
    "QUERY = \"\"\"\n",
    "        SELECT value, COUNT(*) FROM node_tags WHERE key = 'amenity' \n",
    "        GROUP BY value ORDER BY COUNT(*) DESC LIMIT 15\n",
    "        \"\"\"\n",
    "c.execute(QUERY)\n",
    "rows = c.fetchall()\n",
    "pd.DataFrame(rows, columns=['value', 'count'], index=range(1,16))"
   ]
  },
  {
   "cell_type": "markdown",
   "metadata": {},
   "source": [
    "### Cuisine Types "
   ]
  },
  {
   "cell_type": "markdown",
   "metadata": {},
   "source": [
    "Having said that, let's explore the cuisine types of all the nodes tagged as 'restaurant'. Usual suspects like 'pizza' and 'American' rank amongst the top cuisine types, but it was somewhat surprising to see 'Mexican' as the top category as Boston doesn't have a particularly strong Mexican influence. Instead, I would have expected to see 'Italian' rank higher given the city's heritage. "
   ]
  },
  {
   "cell_type": "code",
   "execution_count": 88,
   "metadata": {
    "collapsed": false
   },
   "outputs": [
    {
     "data": {
      "text/html": [
       "<div>\n",
       "<table border=\"1\" class=\"dataframe\">\n",
       "  <thead>\n",
       "    <tr style=\"text-align: right;\">\n",
       "      <th></th>\n",
       "      <th>value</th>\n",
       "      <th>count</th>\n",
       "    </tr>\n",
       "  </thead>\n",
       "  <tbody>\n",
       "    <tr>\n",
       "      <th>1</th>\n",
       "      <td>mexican</td>\n",
       "      <td>16</td>\n",
       "    </tr>\n",
       "    <tr>\n",
       "      <th>2</th>\n",
       "      <td>pizza</td>\n",
       "      <td>15</td>\n",
       "    </tr>\n",
       "    <tr>\n",
       "      <th>3</th>\n",
       "      <td>american</td>\n",
       "      <td>13</td>\n",
       "    </tr>\n",
       "    <tr>\n",
       "      <th>4</th>\n",
       "      <td>italian</td>\n",
       "      <td>13</td>\n",
       "    </tr>\n",
       "    <tr>\n",
       "      <th>5</th>\n",
       "      <td>chinese</td>\n",
       "      <td>11</td>\n",
       "    </tr>\n",
       "    <tr>\n",
       "      <th>6</th>\n",
       "      <td>indian</td>\n",
       "      <td>11</td>\n",
       "    </tr>\n",
       "    <tr>\n",
       "      <th>7</th>\n",
       "      <td>thai</td>\n",
       "      <td>9</td>\n",
       "    </tr>\n",
       "    <tr>\n",
       "      <th>8</th>\n",
       "      <td>japanese</td>\n",
       "      <td>8</td>\n",
       "    </tr>\n",
       "    <tr>\n",
       "      <th>9</th>\n",
       "      <td>asian</td>\n",
       "      <td>7</td>\n",
       "    </tr>\n",
       "    <tr>\n",
       "      <th>10</th>\n",
       "      <td>international</td>\n",
       "      <td>7</td>\n",
       "    </tr>\n",
       "  </tbody>\n",
       "</table>\n",
       "</div>"
      ],
      "text/plain": [
       "            value  count\n",
       "1         mexican     16\n",
       "2           pizza     15\n",
       "3        american     13\n",
       "4         italian     13\n",
       "5         chinese     11\n",
       "6          indian     11\n",
       "7            thai      9\n",
       "8        japanese      8\n",
       "9           asian      7\n",
       "10  international      7"
      ]
     },
     "execution_count": 88,
     "metadata": {},
     "output_type": "execute_result"
    }
   ],
   "source": [
    "QUERY = \"\"\"\n",
    "        SELECT value, COUNT(*) FROM node_tags \n",
    "        WHERE id IN (SELECT id FROM node_tags WHERE key = 'amenity' and value = 'restaurant') \n",
    "              AND key = 'cuisine'\n",
    "        GROUP BY value ORDER BY COUNT(*) DESC LIMIT 10\n",
    "        \"\"\"\n",
    "c.execute(QUERY)\n",
    "rows = c.fetchall()\n",
    "pd.DataFrame(rows, columns=['value', 'count'], index=range(1,11))"
   ]
  },
  {
   "cell_type": "markdown",
   "metadata": {},
   "source": [
    "## Conclusion "
   ]
  },
  {
   "cell_type": "code",
   "execution_count": null,
   "metadata": {
    "collapsed": true
   },
   "outputs": [],
   "source": []
  }
 ],
 "metadata": {
  "kernelspec": {
   "display_name": "Python 2",
   "language": "python",
   "name": "python2"
  },
  "language_info": {
   "codemirror_mode": {
    "name": "ipython",
    "version": 2
   },
   "file_extension": ".py",
   "mimetype": "text/x-python",
   "name": "python",
   "nbconvert_exporter": "python",
   "pygments_lexer": "ipython2",
   "version": "2.7.11"
  }
 },
 "nbformat": 4,
 "nbformat_minor": 0
}
